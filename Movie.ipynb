{
 "cells": [
  {
   "cell_type": "markdown",
   "id": "c5ffa01c-d862-488a-835c-14256763cbf8",
   "metadata": {},
   "source": [
    "## Collaborative Filtering"
   ]
  },
  {
   "cell_type": "markdown",
   "id": "a243834d-0911-4f8d-9400-39fa98c24ac3",
   "metadata": {},
   "source": [
    "### Part 1: Data Preparation"
   ]
  },
  {
   "cell_type": "code",
   "execution_count": 1,
   "id": "f3c3dcfe-86eb-4eba-b02d-50f2c2cb815a",
   "metadata": {},
   "outputs": [],
   "source": [
    "import numpy as np\n",
    "import pandas as pd\n",
    "import matplotlib.pyplot as plt\n",
    "from collections import Counter\n",
    "from sklearn.neighbors import NearestNeighbors"
   ]
  },
  {
   "cell_type": "code",
   "execution_count": 2,
   "id": "67b858e1-8557-433e-814e-0d8a8159779b",
   "metadata": {},
   "outputs": [
    {
     "name": "stdout",
     "output_type": "stream",
     "text": [
      "Unique Values for Each Column: \n",
      "userId     270896\n",
      "movieId     45115\n",
      "rating         10\n",
      "dtype: int64 \n",
      "\n",
      "There are 26024289 ratings in total \n",
      "\n"
     ]
    },
    {
     "data": {
      "text/html": [
       "<div>\n",
       "<style scoped>\n",
       "    .dataframe tbody tr th:only-of-type {\n",
       "        vertical-align: middle;\n",
       "    }\n",
       "\n",
       "    .dataframe tbody tr th {\n",
       "        vertical-align: top;\n",
       "    }\n",
       "\n",
       "    .dataframe thead th {\n",
       "        text-align: right;\n",
       "    }\n",
       "</style>\n",
       "<table border=\"1\" class=\"dataframe\">\n",
       "  <thead>\n",
       "    <tr style=\"text-align: right;\">\n",
       "      <th></th>\n",
       "      <th>userId</th>\n",
       "      <th>movieId</th>\n",
       "      <th>rating</th>\n",
       "    </tr>\n",
       "  </thead>\n",
       "  <tbody>\n",
       "    <tr>\n",
       "      <th>0</th>\n",
       "      <td>1</td>\n",
       "      <td>110</td>\n",
       "      <td>1.0</td>\n",
       "    </tr>\n",
       "    <tr>\n",
       "      <th>1</th>\n",
       "      <td>1</td>\n",
       "      <td>147</td>\n",
       "      <td>4.5</td>\n",
       "    </tr>\n",
       "  </tbody>\n",
       "</table>\n",
       "</div>"
      ],
      "text/plain": [
       "   userId  movieId  rating\n",
       "0       1      110     1.0\n",
       "1       1      147     4.5"
      ]
     },
     "execution_count": 2,
     "metadata": {},
     "output_type": "execute_result"
    }
   ],
   "source": [
    "df = pd. read_csv('ratings.csv')\n",
    "df.drop(['timestamp'], axis=1, inplace=True)\n",
    "df['movieId'] = df['movieId'].astype(int, errors='ignore')\n",
    "\n",
    "print(f'Unique Values for Each Column: \\n{df.apply(pd.Series.nunique)} \\n')\n",
    "print(f'There are {len(df)} ratings in total \\n')\n",
    "df.head(2)"
   ]
  },
  {
   "cell_type": "markdown",
   "id": "8562c4d4-1916-4706-89f8-7f7555548739",
   "metadata": {},
   "source": [
    "Using histogram to (i)check distribution of ratings and (ii)being sure they are all between 0.5-5"
   ]
  },
  {
   "cell_type": "code",
   "execution_count": 3,
   "id": "93d156e5-303f-4480-980f-c2a342e308b1",
   "metadata": {},
   "outputs": [
    {
     "name": "stdout",
     "output_type": "stream",
     "text": [
      "Mean value is 3.53\n"
     ]
    },
    {
     "data": {
      "text/plain": [
       "<Axes: title={'center': 'Rating Frequency Chart'}, ylabel='Frequency'>"
      ]
     },
     "execution_count": 3,
     "metadata": {},
     "output_type": "execute_result"
    },
    {
     "data": {
      "image/png": "[encoded data removed]",
      "text/plain": [
       "<Figure size 640x480 with 1 Axes>"
      ]
     },
     "metadata": {},
     "output_type": "display_data"
    }
   ],
   "source": [
    "df_mean = df['rating'].mean()\n",
    "print(f'Mean value is {df_mean:.2f}')\n",
    "df['rating'].plot(kind='hist', bins=9, title='Rating Frequency Chart')"
   ]
  },
  {
   "cell_type": "markdown",
   "id": "aae5bd49-4056-4fd5-b881-811c3526662e",
   "metadata": {},
   "source": [
    "\n",
    "\n",
    "For movie_id and original_title matching, we need to combine metadata file and links file\n"
   ]
  },
  {
   "cell_type": "code",
   "execution_count": 4,
   "id": "ac30ff41-f518-42af-958b-1b2fd38f996d",
   "metadata": {},
   "outputs": [
    {
     "name": "stderr",
     "output_type": "stream",
     "text": [
      "C:\\Users\\Jarvis\\AppData\\Local\\Temp\\ipykernel_7436\\1768577764.py:2: DtypeWarning: Columns (10) have mixed types. Specify dtype option on import or set low_memory=False.\n",
      "  df_meta = pd.read_csv(\"movies_metadata.csv\",\n"
     ]
    },
    {
     "data": {
      "text/html": [
       "<div>\n",
       "<style scoped>\n",
       "    .dataframe tbody tr th:only-of-type {\n",
       "        vertical-align: middle;\n",
       "    }\n",
       "\n",
       "    .dataframe tbody tr th {\n",
       "        vertical-align: top;\n",
       "    }\n",
       "\n",
       "    .dataframe thead th {\n",
       "        text-align: right;\n",
       "    }\n",
       "</style>\n",
       "<table border=\"1\" class=\"dataframe\">\n",
       "  <thead>\n",
       "    <tr style=\"text-align: right;\">\n",
       "      <th></th>\n",
       "      <th>movieId</th>\n",
       "      <th>tmdbId</th>\n",
       "      <th>adult</th>\n",
       "      <th>belongs_to_collection</th>\n",
       "      <th>budget</th>\n",
       "      <th>genres</th>\n",
       "      <th>homepage</th>\n",
       "      <th>imdb_id</th>\n",
       "      <th>original_language</th>\n",
       "      <th>original_title</th>\n",
       "      <th>...</th>\n",
       "      <th>revenue</th>\n",
       "      <th>runtime</th>\n",
       "      <th>spoken_languages</th>\n",
       "      <th>status</th>\n",
       "      <th>tagline</th>\n",
       "      <th>title</th>\n",
       "      <th>video</th>\n",
       "      <th>vote_average</th>\n",
       "      <th>vote_count</th>\n",
       "      <th>keywords</th>\n",
       "    </tr>\n",
       "  </thead>\n",
       "  <tbody>\n",
       "    <tr>\n",
       "      <th>0</th>\n",
       "      <td>1</td>\n",
       "      <td>862.0</td>\n",
       "      <td>False</td>\n",
       "      <td>{'id': 10194, 'name': 'Toy Story Collection', ...</td>\n",
       "      <td>30000000</td>\n",
       "      <td>[{'id': 16, 'name': 'Animation'}, {'id': 35, '...</td>\n",
       "      <td>http://toystory.disney.com/toy-story</td>\n",
       "      <td>tt0114709</td>\n",
       "      <td>en</td>\n",
       "      <td>Toy Story</td>\n",
       "      <td>...</td>\n",
       "      <td>373554033.0</td>\n",
       "      <td>81.0</td>\n",
       "      <td>[{'iso_639_1': 'en', 'name': 'English'}]</td>\n",
       "      <td>Released</td>\n",
       "      <td>NaN</td>\n",
       "      <td>Toy Story</td>\n",
       "      <td>False</td>\n",
       "      <td>7.7</td>\n",
       "      <td>5415.0</td>\n",
       "      <td>[{'id': 931, 'name': 'jealousy'}, {'id': 4290,...</td>\n",
       "    </tr>\n",
       "    <tr>\n",
       "      <th>1</th>\n",
       "      <td>2</td>\n",
       "      <td>8844.0</td>\n",
       "      <td>False</td>\n",
       "      <td>NaN</td>\n",
       "      <td>65000000</td>\n",
       "      <td>[{'id': 12, 'name': 'Adventure'}, {'id': 14, '...</td>\n",
       "      <td>NaN</td>\n",
       "      <td>tt0113497</td>\n",
       "      <td>en</td>\n",
       "      <td>Jumanji</td>\n",
       "      <td>...</td>\n",
       "      <td>262797249.0</td>\n",
       "      <td>104.0</td>\n",
       "      <td>[{'iso_639_1': 'en', 'name': 'English'}, {'iso...</td>\n",
       "      <td>Released</td>\n",
       "      <td>Roll the dice and unleash the excitement!</td>\n",
       "      <td>Jumanji</td>\n",
       "      <td>False</td>\n",
       "      <td>6.9</td>\n",
       "      <td>2413.0</td>\n",
       "      <td>[{'id': 10090, 'name': 'board game'}, {'id': 1...</td>\n",
       "    </tr>\n",
       "  </tbody>\n",
       "</table>\n",
       "<p>2 rows × 26 columns</p>\n",
       "</div>"
      ],
      "text/plain": [
       "   movieId  tmdbId  adult                              belongs_to_collection  \\\n",
       "0        1   862.0  False  {'id': 10194, 'name': 'Toy Story Collection', ...   \n",
       "1        2  8844.0  False                                                NaN   \n",
       "\n",
       "     budget                                             genres  \\\n",
       "0  30000000  [{'id': 16, 'name': 'Animation'}, {'id': 35, '...   \n",
       "1  65000000  [{'id': 12, 'name': 'Adventure'}, {'id': 14, '...   \n",
       "\n",
       "                               homepage    imdb_id original_language  \\\n",
       "0  http://toystory.disney.com/toy-story  tt0114709                en   \n",
       "1                                   NaN  tt0113497                en   \n",
       "\n",
       "  original_title  ...      revenue runtime  \\\n",
       "0      Toy Story  ...  373554033.0    81.0   \n",
       "1        Jumanji  ...  262797249.0   104.0   \n",
       "\n",
       "                                    spoken_languages    status  \\\n",
       "0           [{'iso_639_1': 'en', 'name': 'English'}]  Released   \n",
       "1  [{'iso_639_1': 'en', 'name': 'English'}, {'iso...  Released   \n",
       "\n",
       "                                     tagline      title  video  vote_average  \\\n",
       "0                                        NaN  Toy Story  False           7.7   \n",
       "1  Roll the dice and unleash the excitement!    Jumanji  False           6.9   \n",
       "\n",
       "  vote_count                                           keywords  \n",
       "0     5415.0  [{'id': 931, 'name': 'jealousy'}, {'id': 4290,...  \n",
       "1     2413.0  [{'id': 10090, 'name': 'board game'}, {'id': 1...  \n",
       "\n",
       "[2 rows x 26 columns]"
      ]
     },
     "execution_count": 4,
     "metadata": {},
     "output_type": "execute_result"
    }
   ],
   "source": [
    "#Reading and preparing metadata file\n",
    "df_meta = pd.read_csv(\"movies_metadata.csv\",\n",
    "                      on_bad_lines='skip')\n",
    "#df_meta.drop_duplicates(subset=['id'], inplace=True)\n",
    "df_meta.rename(columns={'id': 'tmdbId'}, inplace=True)\n",
    "df_meta[\"tmdbId\"] =pd.to_numeric(df_meta['tmdbId'], errors='coerce',downcast=\"integer\")\n",
    "\n",
    "#Taking movieId and tmdbId(id column at metadata) from links file\n",
    "df_links = pd.read_csv(\"links.csv\",\n",
    "                      on_bad_lines='skip')\n",
    "df_links = df_links[['movieId', 'tmdbId']]\n",
    "df_links.drop_duplicates(subset=['tmdbId'], inplace=True)\n",
    "\n",
    "#Taking keywords from keywords file\n",
    "df_keywords = pd.read_csv(\"keywords.csv\",\n",
    "                      on_bad_lines='skip')\n",
    "df_keywords.rename(columns={'id': 'tmdbId'}, inplace=True)\n",
    "\n",
    "#Merging DataFrames, keeping only movieId and title, removing bad lines\n",
    "df_meta = pd.merge(df_links, df_meta, how='inner', on='tmdbId')\n",
    "df_meta[\"movieId\"] =pd.to_numeric(df_meta['movieId'], errors='coerce',downcast=\"integer\")\n",
    "df_meta.dropna(subset=[\"movieId\"],inplace=True)\n",
    "df_meta = pd.merge(df_meta, df_keywords, how='left', on='tmdbId')\n",
    "df_meta.head(2)"
   ]
  },
  {
   "cell_type": "markdown",
   "id": "c84c8323-3fbd-4c83-b2e1-9abfb7458a55",
   "metadata": {},
   "source": [
    "\n",
    "\n",
    "Description of important columns:\n",
    "\n",
    "    movieId: the unique id for each movie in this dataset\n",
    "\n",
    "    budget - the budget of the movie, contains many \"0\" values - not reliable\n",
    "\n",
    "    original_language - the language that the movie was made\n",
    "\n",
    "    original_title - the original name of the movie\n",
    "\n",
    "    overview - a short summary of the movie\n",
    "\n",
    "    revenue - the worldwide generated revenue\n",
    "\n",
    "    runtime - the length of the movie in minutes\n",
    "\n",
    "    votecount - the total amount of votes that the movie received in this dataset\n",
    "\n",
    "    keywords - tags for the movie, each tag also has an id\n",
    "\n"
   ]
  },
  {
   "cell_type": "code",
   "execution_count": 5,
   "id": "4c234446-13bf-4b27-b5f7-5c2518071ffa",
   "metadata": {},
   "outputs": [
    {
     "data": {
      "text/html": [
       "<div>\n",
       "<style scoped>\n",
       "    .dataframe tbody tr th:only-of-type {\n",
       "        vertical-align: middle;\n",
       "    }\n",
       "\n",
       "    .dataframe tbody tr th {\n",
       "        vertical-align: top;\n",
       "    }\n",
       "\n",
       "    .dataframe thead th {\n",
       "        text-align: right;\n",
       "    }\n",
       "</style>\n",
       "<table border=\"1\" class=\"dataframe\">\n",
       "  <thead>\n",
       "    <tr style=\"text-align: right;\">\n",
       "      <th></th>\n",
       "      <th>movieId</th>\n",
       "      <th>original_language</th>\n",
       "      <th>original_title</th>\n",
       "      <th>overview</th>\n",
       "      <th>revenue</th>\n",
       "      <th>runtime</th>\n",
       "      <th>keywords</th>\n",
       "    </tr>\n",
       "  </thead>\n",
       "  <tbody>\n",
       "    <tr>\n",
       "      <th>0</th>\n",
       "      <td>1</td>\n",
       "      <td>en</td>\n",
       "      <td>Toy Story</td>\n",
       "      <td>Led by Woody, Andy's toys live happily in his ...</td>\n",
       "      <td>373554033.0</td>\n",
       "      <td>81.0</td>\n",
       "      <td>[{'id': 931, 'name': 'jealousy'}, {'id': 4290,...</td>\n",
       "    </tr>\n",
       "    <tr>\n",
       "      <th>1</th>\n",
       "      <td>2</td>\n",
       "      <td>en</td>\n",
       "      <td>Jumanji</td>\n",
       "      <td>When siblings Judy and Peter discover an encha...</td>\n",
       "      <td>262797249.0</td>\n",
       "      <td>104.0</td>\n",
       "      <td>[{'id': 10090, 'name': 'board game'}, {'id': 1...</td>\n",
       "    </tr>\n",
       "  </tbody>\n",
       "</table>\n",
       "</div>"
      ],
      "text/plain": [
       "   movieId original_language original_title  \\\n",
       "0        1                en      Toy Story   \n",
       "1        2                en        Jumanji   \n",
       "\n",
       "                                            overview      revenue  runtime  \\\n",
       "0  Led by Woody, Andy's toys live happily in his ...  373554033.0     81.0   \n",
       "1  When siblings Judy and Peter discover an encha...  262797249.0    104.0   \n",
       "\n",
       "                                            keywords  \n",
       "0  [{'id': 931, 'name': 'jealousy'}, {'id': 4290,...  \n",
       "1  [{'id': 10090, 'name': 'board game'}, {'id': 1...  "
      ]
     },
     "execution_count": 5,
     "metadata": {},
     "output_type": "execute_result"
    }
   ],
   "source": [
    "df_meta = df_meta[['movieId', 'original_language', 'original_title', 'overview', 'revenue', 'runtime', 'keywords']]\n",
    "df_meta.head(2)\n",
    "     "
   ]
  },
  {
   "cell_type": "markdown",
   "id": "2101279c-0b35-4a5e-b0cd-2d0c5bc0eb68",
   "metadata": {},
   "source": [
    "\n",
    "\n",
    "Merging both dataframes to have names\n",
    "\n",
    "Dropna helps to drop rows with no movie name as (i) Non-English movie, (ii) Bad formatting\n"
   ]
  },
  {
   "cell_type": "code",
   "execution_count": 6,
   "id": "edb75b4b-b47c-45d6-b269-b1f9d8990cb0",
   "metadata": {},
   "outputs": [
    {
     "name": "stdout",
     "output_type": "stream",
     "text": [
      "<class 'pandas.core.frame.DataFrame'>\n",
      "RangeIndex: 26025228 entries, 0 to 26025227\n",
      "Data columns (total 9 columns):\n",
      " #   Column             Dtype  \n",
      "---  ------             -----  \n",
      " 0   userId             int64  \n",
      " 1   movieId            int32  \n",
      " 2   rating             float64\n",
      " 3   original_language  object \n",
      " 4   original_title     object \n",
      " 5   overview           object \n",
      " 6   revenue            float64\n",
      " 7   runtime            float64\n",
      " 8   keywords           object \n",
      "dtypes: float64(3), int32(1), int64(1), object(4)\n",
      "memory usage: 1.6+ GB\n",
      "None\n",
      "\n",
      "   userId  movieId  rating original_language original_title  \\\n",
      "0       1      110     1.0                en     Braveheart   \n",
      "1      11      110     3.5                en     Braveheart   \n",
      "\n",
      "                                            overview      revenue  runtime  \\\n",
      "0  Enraged at the slaughter of Murron, his new br...  210000000.0    177.0   \n",
      "1  Enraged at the slaughter of Murron, his new br...  210000000.0    177.0   \n",
      "\n",
      "                                            keywords  \n",
      "0  [{'id': 30, 'name': 'individual'}, {'id': 388,...  \n",
      "1  [{'id': 30, 'name': 'individual'}, {'id': 388,...  \n"
     ]
    }
   ],
   "source": [
    "df = pd.merge(df, df_meta, on=\"movieId\",how=\"inner\")\n",
    "print(f'{df.info()}\\n')\n",
    "print(f'{df.head(2)}')"
   ]
  },
  {
   "cell_type": "markdown",
   "id": "b6a39bfa-ce16-42bf-ad15-747d8a8c40de",
   "metadata": {},
   "source": [
    "\n",
    "\n",
    "The resulting matrix will be sparse\n",
    "\n",
    "However, to be sure that (i) the matrix will not be too sparse, (ii) the computation is fast.\n",
    "\n",
    "We can (i)eliminate unpopular movies, (ii)non-English movies, and (iii)only keep frequent voters\n"
   ]
  },
  {
   "cell_type": "code",
   "execution_count": 7,
   "id": "c0103932-33cd-4682-99f4-7f6fa0e7bce1",
   "metadata": {},
   "outputs": [
    {
     "name": "stdout",
     "output_type": "stream",
     "text": [
      "In total, we will consider 41419 voters as they voted for more than 150 movies\n",
      "In total, we will consider 3476 movies as they are voted by  more than 1000 users\n"
     ]
    }
   ],
   "source": [
    "df.drop(df[df['original_language'] != 'en'].index, inplace=True)\n",
    "\n",
    "user_groupby = pd.Series(Counter(df['userId']))\n",
    "freq_voters = user_groupby.loc[lambda x : x > 150]\n",
    "print(f'In total, we will consider {freq_voters.size} voters as they voted for more than 150 movies')\n",
    "\n",
    "movies_groupby = pd.Series(Counter(df['movieId']))\n",
    "popular_movies = movies_groupby.loc[lambda x : x > 1000]\n",
    "print(f'In total, we will consider {popular_movies.size} movies as they are voted by  more than 1000 users')\n",
    "\n",
    "freq_voters = np.array(freq_voters.index)\n",
    "popular_movies = np.array(popular_movies.index)"
   ]
  },
  {
   "cell_type": "code",
   "execution_count": 8,
   "id": "d79e6874-d920-4209-873a-45e407b2a576",
   "metadata": {},
   "outputs": [
    {
     "name": "stdout",
     "output_type": "stream",
     "text": [
      "<class 'pandas.core.frame.DataFrame'>\n",
      "Index: 14315076 entries, 1 to 25344669\n",
      "Data columns (total 9 columns):\n",
      " #   Column             Dtype  \n",
      "---  ------             -----  \n",
      " 0   userId             int64  \n",
      " 1   movieId            int32  \n",
      " 2   rating             float64\n",
      " 3   original_language  object \n",
      " 4   original_title     object \n",
      " 5   overview           object \n",
      " 6   revenue            float64\n",
      " 7   runtime            float64\n",
      " 8   keywords           object \n",
      "dtypes: float64(3), int32(1), int64(1), object(4)\n",
      "memory usage: 1.0+ GB\n",
      "None\n",
      "\n",
      "   userId  movieId  rating original_language original_title  \\\n",
      "1      11      110     3.5                en     Braveheart   \n",
      "3      24      110     5.0                en     Braveheart   \n",
      "\n",
      "                                            overview      revenue  runtime  \\\n",
      "1  Enraged at the slaughter of Murron, his new br...  210000000.0    177.0   \n",
      "3  Enraged at the slaughter of Murron, his new br...  210000000.0    177.0   \n",
      "\n",
      "                                            keywords  \n",
      "1  [{'id': 30, 'name': 'individual'}, {'id': 388,...  \n",
      "3  [{'id': 30, 'name': 'individual'}, {'id': 388,...  \n"
     ]
    }
   ],
   "source": [
    "df = df[df['userId'].isin(freq_voters)]\n",
    "df = df[df['movieId'].isin(popular_movies)]\n",
    "df.dropna(inplace=True)\n",
    "print(f'{df.info()}\\n')\n",
    "print(f'{df.head(2)}')"
   ]
  },
  {
   "cell_type": "markdown",
   "id": "289beae0-d75f-419f-aa07-891b955e6866",
   "metadata": {},
   "source": [
    "### Collaborative Filtering\n",
    "\n",
    "We prepared our dataset in the previous step and df DataFrame contains all the required data for our study. In this step, we will use item-based collaborative filtering - using user ratings to find similar movies\n",
    "\n",
    "Creating a rating matrix, rows are users' ratings and columns are movies. We can expect a sparse matrix\n"
   ]
  },
  {
   "cell_type": "code",
   "execution_count": 9,
   "id": "9011ea22-3953-4bae-a97c-111a8f6b7210",
   "metadata": {},
   "outputs": [
    {
     "name": "stdout",
     "output_type": "stream",
     "text": [
      "<class 'pandas.core.frame.DataFrame'>\n",
      "Index: 3417 entries, (500) Days of Summer to Æon Flux\n",
      "Columns: 41419 entries, 11 to 270896\n",
      "dtypes: float64(41419)\n",
      "memory usage: 1.1+ GB\n",
      "<class 'pandas.core.frame.DataFrame'>\n",
      "Index: 3417 entries, (500) Days of Summer to Æon Flux\n",
      "Columns: 41419 entries, 11 to 270896\n",
      "dtypes: float64(41419)\n",
      "memory usage: 1.1+ GB\n",
      "None\n",
      "\n"
     ]
    }
   ],
   "source": [
    "df_matrix =  df[['userId', 'original_title', 'rating']]\n",
    "rating_matrix = df_matrix.pivot_table(index='original_title',  columns='userId', values='rating')\n",
    "rating_matrix.info()\n",
    "print(f'{rating_matrix.info()}\\n')"
   ]
  },
  {
   "cell_type": "markdown",
   "id": "b3e11ca5-f2dc-4c1a-8644-2e3a29adbd54",
   "metadata": {},
   "source": [
    "\n",
    "\n",
    "We need to fill each row, cannot keep Nan\n",
    "\n",
    "There are several alternatives on this step, I have chosen filling with 0 and create a sparse matrix. In other instances, such as reducing dimensionality using SVD, filling with row averages also yield good result.\n"
   ]
  },
  {
   "cell_type": "markdown",
   "id": "50f3791a-5014-47f9-8949-db5d7d5c875b",
   "metadata": {},
   "source": [
    "\n",
    "\n",
    "For the recommendation system, as the dimensionality of this problem is reasonable, I will use KNN, which is highly flexible. If the dimensionality was larger (in case user-based filtering), SVD could be employed.\n",
    "\n",
    "Tried ecludian distance metric, but cosine similarity is working slightly better.\n"
   ]
  },
  {
   "cell_type": "code",
   "execution_count": 10,
   "id": "718994ae-c8ed-4d61-9268-7dc9d5a2b367",
   "metadata": {},
   "outputs": [
    {
     "name": "stdout",
     "output_type": "stream",
     "text": [
      "<class 'pandas.core.frame.DataFrame'>\n",
      "Index: 3417 entries, (500) Days of Summer to Æon Flux\n",
      "Columns: 41419 entries, 11 to 270896\n",
      "dtypes: float64(41419)\n",
      "memory usage: 1.1+ GB\n"
     ]
    },
    {
     "data": {
      "text/html": [
       "<style>#sk-container-id-1 {color: black;}#sk-container-id-1 pre{padding: 0;}#sk-container-id-1 div.sk-toggleable {background-color: white;}#sk-container-id-1 label.sk-toggleable__label {cursor: pointer;display: block;width: 100%;margin-bottom: 0;padding: 0.3em;box-sizing: border-box;text-align: center;}#sk-container-id-1 label.sk-toggleable__label-arrow:before {content: \"▸\";float: left;margin-right: 0.25em;color: #696969;}#sk-container-id-1 label.sk-toggleable__label-arrow:hover:before {color: black;}#sk-container-id-1 div.sk-estimator:hover label.sk-toggleable__label-arrow:before {color: black;}#sk-container-id-1 div.sk-toggleable__content {max-height: 0;max-width: 0;overflow: hidden;text-align: left;background-color: #f0f8ff;}#sk-container-id-1 div.sk-toggleable__content pre {margin: 0.2em;color: black;border-radius: 0.25em;background-color: #f0f8ff;}#sk-container-id-1 input.sk-toggleable__control:checked~div.sk-toggleable__content {max-height: 200px;max-width: 100%;overflow: auto;}#sk-container-id-1 input.sk-toggleable__control:checked~label.sk-toggleable__label-arrow:before {content: \"▾\";}#sk-container-id-1 div.sk-estimator input.sk-toggleable__control:checked~label.sk-toggleable__label {background-color: #d4ebff;}#sk-container-id-1 div.sk-label input.sk-toggleable__control:checked~label.sk-toggleable__label {background-color: #d4ebff;}#sk-container-id-1 input.sk-hidden--visually {border: 0;clip: rect(1px 1px 1px 1px);clip: rect(1px, 1px, 1px, 1px);height: 1px;margin: -1px;overflow: hidden;padding: 0;position: absolute;width: 1px;}#sk-container-id-1 div.sk-estimator {font-family: monospace;background-color: #f0f8ff;border: 1px dotted black;border-radius: 0.25em;box-sizing: border-box;margin-bottom: 0.5em;}#sk-container-id-1 div.sk-estimator:hover {background-color: #d4ebff;}#sk-container-id-1 div.sk-parallel-item::after {content: \"\";width: 100%;border-bottom: 1px solid gray;flex-grow: 1;}#sk-container-id-1 div.sk-label:hover label.sk-toggleable__label {background-color: #d4ebff;}#sk-container-id-1 div.sk-serial::before {content: \"\";position: absolute;border-left: 1px solid gray;box-sizing: border-box;top: 0;bottom: 0;left: 50%;z-index: 0;}#sk-container-id-1 div.sk-serial {display: flex;flex-direction: column;align-items: center;background-color: white;padding-right: 0.2em;padding-left: 0.2em;position: relative;}#sk-container-id-1 div.sk-item {position: relative;z-index: 1;}#sk-container-id-1 div.sk-parallel {display: flex;align-items: stretch;justify-content: center;background-color: white;position: relative;}#sk-container-id-1 div.sk-item::before, #sk-container-id-1 div.sk-parallel-item::before {content: \"\";position: absolute;border-left: 1px solid gray;box-sizing: border-box;top: 0;bottom: 0;left: 50%;z-index: -1;}#sk-container-id-1 div.sk-parallel-item {display: flex;flex-direction: column;z-index: 1;position: relative;background-color: white;}#sk-container-id-1 div.sk-parallel-item:first-child::after {align-self: flex-end;width: 50%;}#sk-container-id-1 div.sk-parallel-item:last-child::after {align-self: flex-start;width: 50%;}#sk-container-id-1 div.sk-parallel-item:only-child::after {width: 0;}#sk-container-id-1 div.sk-dashed-wrapped {border: 1px dashed gray;margin: 0 0.4em 0.5em 0.4em;box-sizing: border-box;padding-bottom: 0.4em;background-color: white;}#sk-container-id-1 div.sk-label label {font-family: monospace;font-weight: bold;display: inline-block;line-height: 1.2em;}#sk-container-id-1 div.sk-label-container {text-align: center;}#sk-container-id-1 div.sk-container {/* jupyter's `normalize.less` sets `[hidden] { display: none; }` but bootstrap.min.css set `[hidden] { display: none !important; }` so we also need the `!important` here to be able to override the default hidden behavior on the sphinx rendered scikit-learn.org. See: https://github.com/scikit-learn/scikit-learn/issues/21755 */display: inline-block !important;position: relative;}#sk-container-id-1 div.sk-text-repr-fallback {display: none;}</style><div id=\"sk-container-id-1\" class=\"sk-top-container\"><div class=\"sk-text-repr-fallback\"><pre>NearestNeighbors(algorithm=&#x27;brute&#x27;, metric=&#x27;cosine&#x27;, n_jobs=2, n_neighbors=20)</pre><b>In a Jupyter environment, please rerun this cell to show the HTML representation or trust the notebook. <br />On GitHub, the HTML representation is unable to render, please try loading this page with nbviewer.org.</b></div><div class=\"sk-container\" hidden><div class=\"sk-item\"><div class=\"sk-estimator sk-toggleable\"><input class=\"sk-toggleable__control sk-hidden--visually\" id=\"sk-estimator-id-1\" type=\"checkbox\" checked><label for=\"sk-estimator-id-1\" class=\"sk-toggleable__label sk-toggleable__label-arrow\">NearestNeighbors</label><div class=\"sk-toggleable__content\"><pre>NearestNeighbors(algorithm=&#x27;brute&#x27;, metric=&#x27;cosine&#x27;, n_jobs=2, n_neighbors=20)</pre></div></div></div></div></div>"
      ],
      "text/plain": [
       "NearestNeighbors(algorithm='brute', metric='cosine', n_jobs=2, n_neighbors=20)"
      ]
     },
     "execution_count": 10,
     "metadata": {},
     "output_type": "execute_result"
    }
   ],
   "source": [
    "rating_matrix_filled = rating_matrix.apply(lambda row: row.fillna(0), axis=1)\n",
    "rating_matrix_filled.info()\n",
    "     \n",
    "\n",
    "#Training KNN model\n",
    "knn = NearestNeighbors(metric='cosine', algorithm='brute', n_neighbors=20, n_jobs=2)\n",
    "knn.fit(rating_matrix_filled)\n",
    "     "
   ]
  },
  {
   "cell_type": "code",
   "execution_count": 12,
   "id": "92fe01b9-581b-495e-88d2-4ee5401ccebe",
   "metadata": {},
   "outputs": [],
   "source": [
    "def movieRecommender(movie_name, knn, matrix):\n",
    "  try:\n",
    "    dist, idx = knn.kneighbors(matrix.loc[movie_name].values.reshape(1,-1),n_neighbors=20)\n",
    "    print(f'For your selection of {movie_name}, I will recommend \\n')\n",
    "    for i in range(1, len(dist.flatten())):\n",
    "      movie_name = matrix.index[idx.flatten()[i]]\n",
    "      print(f'{i}- {movie_name}, distance is {dist.flatten()[i]:.3f}')\n",
    "  except:\n",
    "    print(f'The movie {movie_name} is not in our database. \\n Please note that our database contains only popular movies up until mid 2017.')"
   ]
  },
  {
   "cell_type": "markdown",
   "id": "67126efb-c294-4f19-b1e4-60a2dc2dd542",
   "metadata": {},
   "source": [
    "We will try to use the recommender for an example movie:"
   ]
  },
  {
   "cell_type": "code",
   "execution_count": 14,
   "id": "93812a7c-670c-4d5f-916c-5500182b071b",
   "metadata": {},
   "outputs": [
    {
     "name": "stdout",
     "output_type": "stream",
     "text": [
      "For your selection of Ace Ventura: Pet Detective, I will recommend \n",
      "\n",
      "1- Dumb and Dumber, distance is 0.268\n",
      "2- Ace Ventura: When Nature Calls, distance is 0.289\n",
      "3- The Mask, distance is 0.309\n",
      "4- Home Alone, distance is 0.359\n",
      "5- Forrest Gump, distance is 0.360\n",
      "6- Jurassic Park, distance is 0.363\n",
      "7- Mrs. Doubtfire, distance is 0.363\n",
      "8- Independence Day, distance is 0.373\n",
      "9- Speed, distance is 0.390\n",
      "10- Mission: Impossible, distance is 0.394\n",
      "11- Terminator 2: Judgment Day, distance is 0.395\n",
      "12- Batman, distance is 0.396\n",
      "13- Pulp Fiction, distance is 0.397\n",
      "14- Batman Forever, distance is 0.400\n",
      "15- Austin Powers: The Spy Who Shagged Me, distance is 0.401\n",
      "16- Back to the Future, distance is 0.402\n",
      "17- Austin Powers: International Man of Mystery, distance is 0.403\n",
      "18- True Lies, distance is 0.404\n",
      "19- Liar Liar, distance is 0.407\n"
     ]
    }
   ],
   "source": [
    "movieRecommender('Ace Ventura: Pet Detective', knn, rating_matrix_filled)"
   ]
  },
  {
   "cell_type": "code",
   "execution_count": 15,
   "id": "427641a3-de3a-47f5-9c4b-71511a6f1603",
   "metadata": {},
   "outputs": [
    {
     "name": "stdout",
     "output_type": "stream",
     "text": [
      "For your selection of Batman Begins, I will recommend \n",
      "\n",
      "1- The Dark Knight, distance is 0.234\n",
      "2- The Lord of the Rings: The Return of the King, distance is 0.261\n",
      "3- The Lord of the Rings: The Two Towers, distance is 0.282\n",
      "4- V for Vendetta, distance is 0.287\n",
      "5- The Lord of the Rings: The Fellowship of the Ring, distance is 0.294\n",
      "6- The Incredibles, distance is 0.298\n",
      "7- Pirates of the Caribbean: The Curse of the Black Pearl, distance is 0.299\n",
      "8- Sin City, distance is 0.300\n",
      "9- Iron Man, distance is 0.301\n",
      "10- Kill Bill: Vol. 1, distance is 0.312\n",
      "11- Casino Royale, distance is 0.312\n",
      "12- The Bourne Identity, distance is 0.314\n",
      "13- Spider-Man 2, distance is 0.320\n",
      "14- Kill Bill: Vol. 2, distance is 0.324\n",
      "15- Fight Club, distance is 0.328\n",
      "16- Spider-Man, distance is 0.329\n",
      "17- Star Wars: Episode III - Revenge of the Sith, distance is 0.333\n",
      "18- The Matrix, distance is 0.334\n",
      "19- The Prestige, distance is 0.334\n"
     ]
    }
   ],
   "source": [
    "movieRecommender('Batman Begins', knn, rating_matrix_filled)"
   ]
  },
  {
   "cell_type": "markdown",
   "id": "29cca7cf-4024-4d0b-8cb6-70d2fd397bc8",
   "metadata": {},
   "source": [
    "### Part 3: Enhanching our Recommender"
   ]
  },
  {
   "cell_type": "markdown",
   "id": "cc70fc5d-1b89-474c-a287-735b56b70e42",
   "metadata": {},
   "source": [
    "\n",
    "\n",
    "SentenceTransformers library is decent at sentence and text embeddings.\n",
    "\n",
    "We can use this library to find text embeddings (movie overview & movie tags) and use to check similarity of embeddings to eliminate some poor recommendations from our base recommender system.\n"
   ]
  },
  {
   "cell_type": "code",
   "execution_count": 16,
   "id": "58455dbe-cb83-4e43-9666-1e09a7eb72cb",
   "metadata": {},
   "outputs": [
    {
     "ename": "ModuleNotFoundError",
     "evalue": "No module named 'sentence_transformers'",
     "output_type": "error",
     "traceback": [
      "\u001b[1;31m---------------------------------------------------------------------------\u001b[0m",
      "\u001b[1;31mModuleNotFoundError\u001b[0m                       Traceback (most recent call last)",
      "Cell \u001b[1;32mIn[16], line 1\u001b[0m\n\u001b[1;32m----> 1\u001b[0m \u001b[38;5;28;01mfrom\u001b[39;00m \u001b[38;5;21;01msentence_transformers\u001b[39;00m \u001b[38;5;28;01mimport\u001b[39;00m SentenceTransformer, util\n",
      "\u001b[1;31mModuleNotFoundError\u001b[0m: No module named 'sentence_transformers'"
     ]
    }
   ],
   "source": [
    "from sentence_transformers import SentenceTransformer, util"
   ]
  },
  {
   "cell_type": "code",
   "execution_count": null,
   "id": "bcec5215-526b-4707-9529-2d3924bf66ad",
   "metadata": {},
   "outputs": [],
   "source": [
    "model = SentenceTransformer('all-MiniLM-L6-v2')"
   ]
  },
  {
   "cell_type": "code",
   "execution_count": 23,
   "id": "be4efad5-0647-4b03-90f6-f9161e049fe4",
   "metadata": {},
   "outputs": [],
   "source": [
    "def movieRecommenderEnhanced(movie_name, knn, matrix):\n",
    "  recommendation_list = [movie_name]\n",
    "  distances = [1]\n",
    "  try:\n",
    "    dist, idx = knn.kneighbors(matrix.loc[movie_name].values.reshape(1,-1),n_neighbors=20)\n",
    "    for i in range(1, len(dist.flatten())):\n",
    "      movie_name = matrix.index[idx.flatten()[i]]\n",
    "      recommendation_list.append(movie_name)\n",
    "      distance = dist.flatten()[i]\n",
    "      distances.append(distance)\n",
    "  except:\n",
    "    print(f'The movie {movie_name} is not in our database. \\n Please note that our database contains only popular movies up until mid 2017.')\n",
    "\n",
    "  overview_embeddings = []\n",
    "  similarities = []\n",
    "  for movie in recommendation_list:\n",
    "    overview = df_meta[df_meta['original_title'] == movie]['overview'].values[0]\n",
    "    embedding = model.encode(overview)\n",
    "    overview_embeddings.append(embedding)\n",
    "    cosine_scores = util.cos_sim(overview_embeddings[0], embedding)\n",
    "    similarities.append(cosine_scores.item())\n",
    "\n",
    "  print(f'For your selection of {recommendation_list[0]}, I will recommend \\n')\n",
    "  counter = 1\n",
    "  for i in range(1 , len(recommendation_list)):\n",
    "    if similarities[i] > 0.2:\n",
    "      print(f'{counter}- {recommendation_list[i]} and distance is {distances[i]:.3f}')\n",
    "      counter += 1"
   ]
  },
  {
   "cell_type": "markdown",
   "id": "60b04ac9-8def-4e84-b38e-e3f31aa84af6",
   "metadata": {},
   "source": [
    "\n",
    "\n",
    "In our design, we use cosine similarities of movies' overview embeddings. Later, we eliminate the ones with similarities less than 0.2.\n",
    "\n",
    "Note: Similarities has the maximum value of 1.0 (with themselves) and 0.2 cutpoint is just a hyperparameter, which I believe a decent one.\n"
   ]
  },
  {
   "cell_type": "code",
   "execution_count": 24,
   "id": "06ddb634-b2f9-4c4d-98ca-89d97624ce27",
   "metadata": {},
   "outputs": [
    {
     "name": "stdout",
     "output_type": "stream",
     "text": [
      "For your selection of Batman Begins, I will recommend \n",
      "\n",
      "1- The Dark Knight and distance is 0.242\n",
      "2- The Incredibles and distance is 0.289\n",
      "3- V for Vendetta and distance is 0.293\n",
      "4- Iron Man and distance is 0.303\n",
      "5- Sin City and distance is 0.304\n",
      "6- Pirates of the Caribbean: The Curse of the Black Pearl and distance is 0.304\n",
      "7- Spider-Man 2 and distance is 0.310\n",
      "8- Kill Bill: Vol. 1 and distance is 0.315\n",
      "9- The Bourne Identity and distance is 0.317\n",
      "10- Spider-Man and distance is 0.323\n",
      "11- Fight Club and distance is 0.329\n",
      "12- The Matrix and distance is 0.332\n",
      "13- Kill Bill: Vol. 2 and distance is 0.332\n"
     ]
    }
   ],
   "source": [
    "\n",
    "movieRecommenderEnhanced('Batman Begins', knn, rating_matrix_filled)"
   ]
  },
  {
   "cell_type": "markdown",
   "id": "6787b909-d206-45e8-a235-13141ffce5e8",
   "metadata": {},
   "source": [
    "\n",
    "\n",
    "There is an improvement in our recommender system; overview similarity filtering helped us to eliminate Lotr of The Rings movies from our recommendation for \"Batman Begins\". Although Lotr is a great movie series, it has limited similarities with Nolan's Batman Begins movie.\n",
    "\n",
    "Now, we will try to improve the algorithm even further by using movie tags.\n"
   ]
  },
  {
   "cell_type": "code",
   "execution_count": 25,
   "id": "e93b251c-ab20-4465-98a4-df515a86d0e5",
   "metadata": {},
   "outputs": [],
   "source": [
    "def movieRecommenderEnhanced(movie_name, knn, matrix):\n",
    "  recommendation_list = [movie_name]\n",
    "  overview_distances = [1]\n",
    "  try:\n",
    "    dist, idx = knn.kneighbors(matrix.loc[movie_name].values.reshape(1,-1),n_neighbors=20)\n",
    "    for i in range(1, len(dist.flatten())):\n",
    "      movie_name = matrix.index[idx.flatten()[i]]\n",
    "      recommendation_list.append(movie_name)\n",
    "      distance = dist.flatten()[i]\n",
    "      overview_distances.append(distance)\n",
    "  except:\n",
    "    print(f'The movie {movie_name} is not in our database. \\n Please note that our database contains only popular movies up until mid 2017.')\n",
    "\n",
    "  overview_embeddings = []\n",
    "  overview_similarities = []\n",
    "  for movie in recommendation_list:\n",
    "    overview = df_meta[df_meta['original_title'] == movie]['overview'].values[0]\n",
    "    embedding = model.encode(overview)\n",
    "    overview_embeddings.append(embedding)\n",
    "    cosine_scores = util.cos_sim(overview_embeddings[0], embedding)\n",
    "    overview_similarities.append(cosine_scores.item())\n",
    "\n",
    "  keyword_embeddings = []\n",
    "  keyword_similarities = []\n",
    "  for movie in recommendation_list:\n",
    "    #Extracting keywords from the keywords column\n",
    "    #Which is not in proper JSON format\n",
    "    keywords = list(df_meta[df_meta['original_title'] == movie]['keywords'].values[0].split(\",\"))\n",
    "    tags = []\n",
    "    for tag in keywords:\n",
    "      if tag.startswith(\" 'name\"):\n",
    "        tags.append(tag[10:-2])\n",
    "    tags[-1] = tags[-1][:-1]\n",
    "\n",
    "    combined_tags = \" \".join(tags)\n",
    "    embedding = model.encode(combined_tags)\n",
    "    keyword_embeddings.append(embedding)\n",
    "    cosine_scores = util.cos_sim(keyword_embeddings[0], embedding)\n",
    "    keyword_similarities.append(cosine_scores.item())\n",
    "\n",
    "\n",
    "  print(f'For your selection of {recommendation_list[0]}, I will recommend \\n')\n",
    "  counter = 1\n",
    "  for i in range(1 , len(recommendation_list)):\n",
    "    if overview_similarities[i] > 0.2 and keyword_similarities[i] > 0.3:\n",
    "      print(f'{counter}- {recommendation_list[i]} and distance is {overview_distances[i]:.3f}')\n",
    "      counter += 1"
   ]
  },
  {
   "cell_type": "code",
   "execution_count": 26,
   "id": "caae02d8-548e-4358-9ebb-b0206d1630f9",
   "metadata": {},
   "outputs": [
    {
     "name": "stdout",
     "output_type": "stream",
     "text": [
      "For your selection of Batman Begins, I will recommend \n",
      "\n",
      "1- The Dark Knight and distance is 0.242\n",
      "2- The Incredibles and distance is 0.289\n",
      "3- V for Vendetta and distance is 0.293\n",
      "4- Iron Man and distance is 0.303\n",
      "5- Sin City and distance is 0.304\n",
      "6- Pirates of the Caribbean: The Curse of the Black Pearl and distance is 0.304\n",
      "7- Spider-Man 2 and distance is 0.310\n",
      "8- Kill Bill: Vol. 1 and distance is 0.315\n",
      "9- Spider-Man and distance is 0.323\n",
      "10- Fight Club and distance is 0.329\n",
      "11- The Matrix and distance is 0.332\n",
      "12- Kill Bill: Vol. 2 and distance is 0.332\n"
     ]
    }
   ],
   "source": [
    "movieRecommenderEnhanced('Batman Begins', knn, rating_matrix_filled)"
   ]
  },
  {
   "cell_type": "code",
   "execution_count": 27,
   "id": "18e01fd2-1b63-4d4a-bd68-e2a6be58d1e8",
   "metadata": {},
   "outputs": [
    {
     "name": "stdout",
     "output_type": "stream",
     "text": [
      "For your selection of The Matrix Reloaded, I will recommend \n",
      "\n",
      "1- The Matrix Revolutions and distance is 0.197\n",
      "2- Minority Report and distance is 0.306\n",
      "3- The Matrix and distance is 0.307\n",
      "4- Star Wars: Episode II - Attack of the Clones and distance is 0.333\n",
      "5- Batman Begins and distance is 0.366\n"
     ]
    }
   ],
   "source": [
    "movieRecommenderEnhanced('The Matrix Reloaded', knn, rating_matrix_filled)"
   ]
  },
  {
   "cell_type": "markdown",
   "id": "a8e664a8-8a4b-40d3-9aa2-53d169671de1",
   "metadata": {},
   "source": [
    "User-based colloborative filtering, enhanced with overview/tags embedding closeness filtering (eliminated recommendations from unrelated genres, even if many users liked them both) yielded satisfactory results for our study. Recommended movies are reasonably well selected for given titles.\n",
    "\n",
    "As a note: we used a subset of the total available data in our study. This study can be enhanced using cast data, runtime (some people may have preference over shorter or longer movies), average vote rating (some people may only prefer high-rated movies), and so on."
   ]
  },
  {
   "cell_type": "code",
   "execution_count": null,
   "id": "1506b3bf-d160-48c5-9119-31125c86e5d2",
   "metadata": {},
   "outputs": [],
   "source": []
  }
 ],
 "metadata": {
  "kernelspec": {
   "display_name": "Python 3 (ipykernel)",
   "language": "python",
   "name": "python3"
  },
  "language_info": {
   "codemirror_mode": {
    "name": "ipython",
    "version": 3
   },
   "file_extension": ".py",
   "mimetype": "text/x-python",
   "name": "python",
   "nbconvert_exporter": "python",
   "pygments_lexer": "ipython3",
   "version": "3.11.4"
  }
 },
 "nbformat": 4,
 "nbformat_minor": 5
}
